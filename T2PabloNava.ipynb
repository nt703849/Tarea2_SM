{
 "cells": [
  {
   "cell_type": "markdown",
   "metadata": {},
   "source": [
    "# Programming language of the year? Python is standout in latest rankings.\n",
    "\n",
    "The article mentions how Python is being very demanded, with a bigger rise than any other language in Tiobes's search engine ranking. It's currently number 3, just before Java and C. What makes it so popular is how people teach with it very simply machine learning, statistical analysis, scripting, web programming, scientific computing and even hacking.\n",
    "\n",
    "It has a very straightforward syntaxis that makes it really clean to see what's going on in the program. Also, some other program languages that have been on the grow is MatLab and Julia. I didn't knew about this program but sounds like an interesting option as the article mentions:\n",
    "> Julia is designed to combine the speed of C with the usability of Python, the dynamism of Ruby, the mathematical prowess of MatLab, and the statistical chops of R.\n",
    "\n",
    "- https://www.zdnet.com/article/programming-language-of-the-year-python-is-standout-in-latest-rankings/\n",
    "\n",
    "# Python is becoming the world's most popular coding language\n",
    "\n",
    "The article mentions how it's flexibility and simplicity is what has made Python such a popular programming language, going far beyond the expectations of his creator.\n",
    "\n",
    "It has a very strong community of people making all types of software packages to be implemented from «game development to astronomy». Which makes it really accesible to a wide variety of people interested in programming. Nonetheless there are also some strong nitches in other languages. For example C and C++ are very good on optimising how the program is executed on the processor. Also Java is very used in making applications and JavaScript for making animations and other visuals in web pages.\n",
    "\n",
    "- https://www.economist.com/graphic-detail/2018/07/26/python-is-becoming-the-worlds-most-popular-coding-language"
   ]
  }
 ],
 "metadata": {
  "kernelspec": {
   "display_name": "Python 3",
   "language": "python",
   "name": "python3"
  },
  "language_info": {
   "codemirror_mode": {
    "name": "ipython",
    "version": 3
   },
   "file_extension": ".py",
   "mimetype": "text/x-python",
   "name": "python",
   "nbconvert_exporter": "python",
   "pygments_lexer": "ipython3",
   "version": "3.7.1"
  }
 },
 "nbformat": 4,
 "nbformat_minor": 2
}
